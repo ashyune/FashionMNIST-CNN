{
 "cells": [
  {
   "cell_type": "code",
   "execution_count": 59,
   "id": "910a45b6-5aee-4ab6-b726-6aa649627afb",
   "metadata": {},
   "outputs": [],
   "source": [
    "import torch\n",
    "import torch.nn.functional as F\n",
    "import torch.nn as nn\n",
    "import torch.optim as optim\n",
    "\n",
    "import torchvision\n",
    "import torchvision.transforms as transforms\n",
    "\n",
    "\n",
    "import time\n",
    "import numpy as np\n",
    "import matplotlib.pyplot as plt"
   ]
  },
  {
   "cell_type": "code",
   "execution_count": 60,
   "id": "ba5cce2f-01d5-4007-aba1-b7115b0deb46",
   "metadata": {},
   "outputs": [],
   "source": [
    "epochs = 15\n",
    "batch_size = 4\n",
    "learning_rate = 0.001"
   ]
  },
  {
   "cell_type": "code",
   "execution_count": 61,
   "id": "1e0fc2fd-88da-44ff-90e8-57d0cb583adc",
   "metadata": {},
   "outputs": [],
   "source": [
    "transform = transforms.Compose([\n",
    "    transforms.ToTensor(),\n",
    "    transforms.Normalize((0.5,),(0.5,))\n",
    "    ])"
   ]
  },
  {
   "cell_type": "code",
   "execution_count": 62,
   "id": "8f4b3697-666f-4602-a563-4e96b883bae2",
   "metadata": {},
   "outputs": [],
   "source": [
    "# Fashion-mnist dataset \n",
    "trainset = torchvision.datasets.FashionMNIST(root='./data_new', train=True, download=True, transform=transform)\n",
    "testset = torchvision.datasets.FashionMNIST(root='./data_new', train=False, download=True, transform=transform)\n",
    "\n",
    "# Dataloader\n",
    "trainloader = torch.utils.data.DataLoader(trainset, batch_size= 4, shuffle=True, num_workers=2)\n",
    "testloader = torch.utils.data.DataLoader(testset, batch_size= 4, shuffle=False, num_workers=2)"
   ]
  },
  {
   "cell_type": "code",
   "execution_count": 63,
   "id": "99a83bcd-afab-4cbf-b91f-f3a7af5d8654",
   "metadata": {},
   "outputs": [],
   "source": [
    "classes = ['T-shirt', 'Trouser', 'Pullover','Dress','Coat','Sandal','Shirt','Sneaker','Bag', 'AnkleBoot']"
   ]
  },
  {
   "cell_type": "code",
   "execution_count": 64,
   "id": "59972544-b015-4ecb-a386-1c942a18dfca",
   "metadata": {},
   "outputs": [
    {
     "name": "stdout",
     "output_type": "stream",
     "text": [
      "Image shape:torch.Size([4, 1, 28, 28])\n",
      "Label shape:torch.Size([4])\n"
     ]
    },
    {
     "data": {
      "image/png": "[encoded data removed]",
      "text/plain": [
       "<Figure size 1200x1000 with 4 Axes>"
      ]
     },
     "metadata": {},
     "output_type": "display_data"
    }
   ],
   "source": [
    "for batch_1 in trainloader:\n",
    "    batch = batch_1\n",
    "    break\n",
    "\n",
    "print(f\"Image shape:{batch[0].shape}\") # Image pixels -> (batch, channel, height, width)\n",
    "print(f\"Label shape:{batch[1].shape}\") # Label -> (batch, 1)\n",
    "\n",
    "plt.figure(figsize=(12,10))\n",
    "for i in range(batch[0].shape[0]):\n",
    "    plt.subplot(1,4, i+1)\n",
    "    plt.title(classes[batch[1][i]])\n",
    "    plt.imshow(batch[0][i,0,:,:])\n",
    "    plt.axis('off')\n",
    "plt.show()"
   ]
  },
  {
   "cell_type": "code",
   "execution_count": 78,
   "id": "910d01ea-5ee9-485b-8cb7-b75df6c6833a",
   "metadata": {},
   "outputs": [
    {
     "name": "stdout",
     "output_type": "stream",
     "text": [
      "CNN(\n",
      "  (conv1): Conv2d(1, 6, kernel_size=(5, 5), stride=(1, 1))\n",
      "  (conv2): Conv2d(6, 16, kernel_size=(5, 5), stride=(1, 1))\n",
      "  (fc1): Linear(in_features=256, out_features=120, bias=True)\n",
      "  (fc2): Linear(in_features=120, out_features=84, bias=True)\n",
      "  (fc3): Linear(in_features=84, out_features=10, bias=True)\n",
      ")\n"
     ]
    }
   ],
   "source": [
    "class CNN(nn.Module):\n",
    "    def __init__(self):\n",
    "        super(CNN, self).__init__()\n",
    "        self.conv1 = nn.Conv2d(in_channels=1, out_channels=6, \n",
    "                               kernel_size=5)\n",
    "        self.conv2 = nn.Conv2d(in_channels=6, out_channels=16, \n",
    "                               kernel_size=5)\n",
    "        self.fc1 = nn.Linear(in_features=256, out_features=120)\n",
    "        self.fc2 = nn.Linear(in_features=120, out_features=84)\n",
    "        self.fc3 = nn.Linear(in_features=84, out_features=10)\n",
    "        \n",
    "    def forward(self, x):\n",
    "        x = F.relu(self.conv1(x))\n",
    "        x = F.max_pool2d(x, kernel_size=2)\n",
    "        x = F.relu(self.conv2(x))\n",
    "        x = F.max_pool2d(x, kernel_size=2)\n",
    "        x = x.view(x.size(0), -1)\n",
    "        x = F.relu(self.fc1(x))\n",
    "        x = F.relu(self.fc2(x))\n",
    "        x = self.fc3(x)\n",
    "        return x\n",
    "model = CNN()\n",
    "print(model)"
   ]
  },
  {
   "cell_type": "code",
   "execution_count": 79,
   "id": "204344c6-3077-447b-812c-158f887b8b10",
   "metadata": {},
   "outputs": [],
   "source": [
    "device = torch.device(\"cuda:0\" if torch.cuda.is_available() else \"cpu\")"
   ]
  },
  {
   "cell_type": "code",
   "execution_count": 80,
   "id": "48c3e354-986c-4c10-aa1d-aac5c2109dae",
   "metadata": {},
   "outputs": [],
   "source": [
    "# Loss Function\n",
    "loss_fn = nn.CrossEntropyLoss()\n",
    "\n",
    "optimizer = Adam(model.parameters(), lr=learning_rate)"
   ]
  },
  {
   "cell_type": "code",
   "execution_count": 81,
   "id": "482b45d7-ed78-4a87-88a1-1b093dd09537",
   "metadata": {},
   "outputs": [],
   "source": [
    "def calc_acc(loader):\n",
    "    correct = 0\n",
    "    total = 0\n",
    "    for data in loader:\n",
    "        inputs, labels = data[0].to(device), data[1].to(device)\n",
    "        outputs = net(inputs)\n",
    "        _, predicted = torch.max(outputs.data, 1)\n",
    "        total += labels.size(0)\n",
    "        correct += (predicted == labels).sum().item()\n",
    "    return ((100 * correct)/ total)\n"
   ]
  },
  {
   "cell_type": "code",
   "execution_count": 82,
   "id": "ba43d897-894c-466c-ab1a-51bb20059931",
   "metadata": {},
   "outputs": [],
   "source": [
    "def training():\n",
    "    epoch_loss = []\n",
    "    train_acc = []\n",
    "    test_acc = []\n",
    "    \n",
    "    for epoch in range(epochs):\n",
    "        running_loss = 0.0\n",
    "        for i, data in enumerate(trainloader, 0):\n",
    "    \n",
    "            inputs, labels = data[0].to(device), data[1].to(device)\n",
    "            \n",
    "            optimizer.zero_grad()\n",
    "            \n",
    "            outputs = net(inputs)\n",
    "            \n",
    "            loss = loss_fn(outputs, labels)\n",
    "            \n",
    "            loss.backward()\n",
    "            \n",
    "            optimizer.step()\n",
    "            \n",
    "            running_loss += loss.item()\n",
    "            \n",
    "        epoch_loss.append(running_loss)\n",
    "        train_acc.append(calc_acc(trainloader))\n",
    "        test_acc.append(calc_acc(testloader))\n",
    "        print('Epoch: %d of %d, Train Acc: %0.3f, Test Acc: %0.3f, Loss: %0.3f'\n",
    "              % (epoch+1, epochs, train_acc[epoch], test_acc[epoch], running_loss/15000))\n",
    "        \n",
    "    return epoch_loss, train_acc, test_acc\n",
    "            \n",
    "    "
   ]
  },
  {
   "cell_type": "code",
   "execution_count": null,
   "id": "d7c93edb-5fa4-435c-897e-f705b2b54680",
   "metadata": {},
   "outputs": [
    {
     "name": "stdout",
     "output_type": "stream",
     "text": [
      "Epoch: 1 of 15, Train Acc: 93.027, Test Acc: 88.930, Loss: 0.184\n",
      "Epoch: 2 of 15, Train Acc: 93.027, Test Acc: 88.930, Loss: 0.184\n",
      "Epoch: 3 of 15, Train Acc: 93.027, Test Acc: 88.930, Loss: 0.184\n",
      "Epoch: 4 of 15, Train Acc: 93.027, Test Acc: 88.930, Loss: 0.184\n"
     ]
    }
   ],
   "source": [
    "start = time.time()\n",
    "epoch_loss, train_acc, test_acc = training()\n",
    "end = time.time()\n",
    "\n",
    "print(\"%0.2f Minutes\" %((end-start)/60))"
   ]
  },
  {
   "cell_type": "code",
   "execution_count": null,
   "id": "56b3bcd7-df64-4bc4-94ce-5068f0d88c97",
   "metadata": {},
   "outputs": [],
   "source": [
    "plt.figure(figsize=(20,6))\n",
    "plt.subplot(1,3,1)\n",
    "plt.plot(epoch_loss)\n",
    "plt.title(\"Loss\")\n",
    "plt.xlabel('Epoch')\n",
    "plt.ylabel('Loss')\n",
    "\n",
    "plt.subplot(1,3,2)\n",
    "plt.plot(train_acc)\n",
    "plt.title(\"Train Accuracy\")\n",
    "plt.xlabel('Epoch')\n",
    "plt.ylabel('Training Accuracy')\n",
    "\n",
    "plt.subplot(1,3,3)\n",
    "plt.plot(test_acc)\n",
    "plt.title(\"Testing Accuracy\")\n",
    "plt.xlabel('Epoch')\n",
    "plt.ylabel('Test Accuracy')\n",
    "plt.show()"
   ]
  },
  {
   "cell_type": "code",
   "execution_count": null,
   "id": "0388940e-32d8-4b90-93e1-440b2f85d5e6",
   "metadata": {},
   "outputs": [],
   "source": []
  }
 ],
 "metadata": {
  "kernelspec": {
   "display_name": "Python 3 (ipykernel)",
   "language": "python",
   "name": "python3"
  },
  "language_info": {
   "codemirror_mode": {
    "name": "ipython",
    "version": 3
   },
   "file_extension": ".py",
   "mimetype": "text/x-python",
   "name": "python",
   "nbconvert_exporter": "python",
   "pygments_lexer": "ipython3",
   "version": "3.12.2"
  }
 },
 "nbformat": 4,
 "nbformat_minor": 5
}
